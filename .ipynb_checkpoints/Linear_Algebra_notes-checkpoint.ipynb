{
 "cells": [
  {
   "cell_type": "markdown",
   "metadata": {},
   "source": [
    "# Notes for  _Linear Algebra: An In-Depth Introduction with a Focus on Applications_\n",
    "***"
   ]
  },
  {
   "cell_type": "markdown",
   "metadata": {},
   "source": [
    "### For a matrix (or the coefficient matrix of a linear equation system), we have the following relationshiop:\n",
    "$$\\#\\_of\\_columns=dim(Columns\\_Space)+dim(Null\\_Space)$$\n",
    "\n",
    "$\\vec{0}$ is linearly dependent, since there exist a non-trivial linear combination satisfying $\\vec{0}=1$\n",
    "\n",
    "### For the linear equation system $A \\cdot \\vec{x}=\\vec{b}$\n",
    "__1. Is there any solution?__<br />\n",
    "If $\\vec{b}$ can be expressed as a linear conbination of the column vectors of $A$, there is one or more solution. Ohterwise, no solution. (If $\\vec{b}$ is in the space spanned by the column vectors of $A$).\n",
    "   \n",
    "__2. Is the solution unique? (Assume the system is solvable)__<br />\n",
    "If all the column vectors of $A$ are linearly independent, the solution is unique. Otherwise, more than one solutions.\n",
    "\n",
    "\n",
    ">If the column vectors of $A$ is linearly independent, we have $\\#\\_of\\_columns=dim(Columns\\_Space)$. So $dim(Null\\_Space)=0$. This conresponds the case of unique solution.\n",
    "\n",
    ">If the column vectors of $A$ is linearly dependent, $dim(Null\\_Space)\\ne 0$. We can add any vector in Null Space to the solution, resulting is a new solution to the system. That's why the solution is no unique.\n",
    "\n",
    ">All the solutions for $A \\cdot \\vec{x}=\\vec{b}$ consist of a unique solution for $A \\cdot \\vec{x}=\\vec{b}$ plus the Null Space of the matrix $A$ (i.e. the general solution for $A \\cdot \\vec{x}=\\vec{0}$).\n",
    "\n",
    "__An Example of extreme cases:__ <br \\>\n",
    "$0 \\cdot x = 0$ ---Solvable. Infinite solutions. <br \\>\n",
    "$3 \\cdot x = 0$ ---Solvable. Unique solution. <br />\n",
    "$3 \\cdot x = 3$ ---Solvable. Unique solution. <br />\n",
    "$0 \\cdot x = 3$ ---Solvable. Unsolvable.\n",
    "\n",
    "\n"
   ]
  },
  {
   "cell_type": "code",
   "execution_count": 3,
   "metadata": {
    "collapsed": false,
    "scrolled": true
   },
   "outputs": [
    {
     "name": "stdout",
     "output_type": "stream",
     "text": [
      "this is a test file\n"
     ]
    }
   ],
   "source": [
    "x = 'this is a test file'\n",
    "print(x)"
   ]
  }
 ],
 "metadata": {
  "kernelspec": {
   "display_name": "Python 2",
   "language": "python",
   "name": "python2"
  },
  "language_info": {
   "codemirror_mode": {
    "name": "ipython",
    "version": 2
   },
   "file_extension": ".py",
   "mimetype": "text/x-python",
   "name": "python",
   "nbconvert_exporter": "python",
   "pygments_lexer": "ipython2",
   "version": "2.7.10"
  }
 },
 "nbformat": 4,
 "nbformat_minor": 0
}
